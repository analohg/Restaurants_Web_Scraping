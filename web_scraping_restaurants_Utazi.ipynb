{
 "cells": [
  {
   "cell_type": "markdown",
   "id": "c819c431",
   "metadata": {},
   "source": [
    "## In this Notebook, I work through scraping utazi.com to get its menu and prices"
   ]
  },
  {
   "cell_type": "markdown",
   "id": "36ff23a9",
   "metadata": {},
   "source": [
    "> I'll use the following dependencies\n",
    "\n",
    " Requests to access the site\n",
    "\n",
    " BeautifulSoup to parse the HTML file into a readable format\n",
    "\n",
    " Time to rate-limit scraping the website so I don't send too many requests at the same time\n",
    "\n",
    " Selenium to make sure I get all elements in the menu page, especially the ones rendered through javascript\n",
    "\n"
   ]
  },
  {
   "cell_type": "code",
   "execution_count": 1,
   "id": "3ba91e2f",
   "metadata": {},
   "outputs": [],
   "source": [
    "#Importing all dependencies\n",
    "import requests\n",
    "from bs4 import BeautifulSoup\n",
    "import pandas as pd\n",
    "import time\n",
    "from selenium import webdriver"
   ]
  },
  {
   "cell_type": "code",
   "execution_count": null,
   "id": "fe4ac67d",
   "metadata": {},
   "outputs": [],
   "source": [
    "#creating a variable calles 'url' and using the requests get function to store content of the site to the variable data\n",
    "url = 'https://utazing.com/menu'\n",
    "data = requests.get(url)"
   ]
  },
  {
   "cell_type": "code",
   "execution_count": 3,
   "id": "61acb45b",
   "metadata": {},
   "outputs": [
    {
     "name": "stderr",
     "output_type": "stream",
     "text": [
      "C:\\Users\\JOHNAN~1\\AppData\\Local\\Temp/ipykernel_5568/3189705071.py:1: DeprecationWarning: executable_path has been deprecated, please pass in a Service object\n",
      "  driver = webdriver.Chrome(executable_path=\"/Users/JOHN ANALOH/Desktop/chromedriver\")\n"
     ]
    }
   ],
   "source": [
    "#creating a variable 'driver' and storing the chromedriver path to this variable\n",
    "driver = webdriver.Chrome(executable_path=\"/Users/JOHN ANALOH/Desktop/chromedriver\")\n"
   ]
  },
  {
   "cell_type": "code",
   "execution_count": 4,
   "id": "b6dde324",
   "metadata": {},
   "outputs": [],
   "source": [
    "#Automating creation of a new window with selenium's driver\n",
    "#Scrolling to the end of the page to ensure all information is captured\n",
    "#rate-limiting requests after 2 secs\n",
    "driver.get(url)\n",
    "driver.execute_script(\"window.scrollTo(1,20000)\")\n",
    "time.sleep(2)"
   ]
  },
  {
   "cell_type": "code",
   "execution_count": 5,
   "id": "5602a700",
   "metadata": {},
   "outputs": [],
   "source": [
    "#Storing the content of the page to variable 'html'\n",
    "html = driver.page_source"
   ]
  },
  {
   "cell_type": "code",
   "execution_count": 6,
   "id": "3f966079",
   "metadata": {},
   "outputs": [],
   "source": [
    "#writing content of the page to a new file to store data, this way we don't have to scrape utazi everytime\n",
    "with open(\"utazi_full_menu.html\", \"w+\",encoding='utf-8', errors='backslashreplace') as f:\n",
    "    f.write(html)"
   ]
  },
  {
   "cell_type": "code",
   "execution_count": 7,
   "id": "7111d0a9",
   "metadata": {},
   "outputs": [],
   "source": [
    "#reading the content of utazi and storing it to variable 'utazi_full_data'\n",
    "with open(\"utazi_full_menu.html\", \"r\",encoding='utf-8', errors='backslashreplace') as f:\n",
    "    utazi_full_data = f.read()"
   ]
  },
  {
   "cell_type": "code",
   "execution_count": 8,
   "id": "f4d936f9",
   "metadata": {},
   "outputs": [],
   "source": [
    "#here i'm using Beautiful soup's html parser to parse data into a more structured format and storing this in variable 'soup'\n",
    "soup = BeautifulSoup(utazi_full_data, 'html.parser')"
   ]
  },
  {
   "cell_type": "markdown",
   "id": "4072b35a",
   "metadata": {},
   "source": [
    "#### At this point, I do some inspection of utazi's menu page to identify a structure that allows me scrape data\n",
    "#### I'm able to deduce that all the menu information is contained within a div with a class called 'menu-item-container'"
   ]
  },
  {
   "cell_type": "code",
   "execution_count": 16,
   "id": "b9420c20",
   "metadata": {},
   "outputs": [],
   "source": [
    "utazi_full_clean = soup.find_all(\"div\", class_=\"menu-item-container\")"
   ]
  },
  {
   "cell_type": "code",
   "execution_count": 17,
   "id": "2ee001f2",
   "metadata": {},
   "outputs": [],
   "source": [
    "#I convert the content of 'menu-item-container' to a list so I can iterate easily\n",
    "full_menu = list(utazi_full_clean)"
   ]
  },
  {
   "cell_type": "code",
   "execution_count": 18,
   "id": "78614f3e",
   "metadata": {},
   "outputs": [
    {
     "data": {
      "text/plain": [
       "'Peppered dry fish'"
      ]
     },
     "execution_count": 18,
     "metadata": {},
     "output_type": "execute_result"
    }
   ],
   "source": [
    "#here i'm testing how to extract data i need\n",
    "#in this case I want to get the name, price and a short description\n",
    "#This code describes how to get the name of the 10th item on the container\n",
    "full_menu[9].contents[1].text.strip()\n",
    "\n",
    "#full_menu[9].contents[2].text.strip() gets you the description\n",
    "#full_menu[9].contents[0].text.strip() gets you the price"
   ]
  },
  {
   "cell_type": "markdown",
   "id": "937b32c5",
   "metadata": {},
   "source": [
    "#### Next I loop through the container, and on each iteration, I collect and store the name, price and description on different variables"
   ]
  },
  {
   "cell_type": "code",
   "execution_count": 19,
   "id": "aa30d60e",
   "metadata": {},
   "outputs": [],
   "source": [
    "#I start out by creating empty lists\n",
    "item = []\n",
    "item_description = []\n",
    "item_price = []\n",
    "#my loop goes through 137 iterations because I've done a manual count, and the container has consistent formatting up till this point \n",
    "for i in range(1,138):\n",
    "    #find all items under the 'menu-item-container'\n",
    "    menu = list(soup.find_all(\"div\", class_=\"menu-item-container\"))[i]\n",
    "    #store the values of name, price and description as the loop goes through each iteration\n",
    "    try:\n",
    "        food = menu.contents[1].text.strip()\n",
    "        food_description = menu.contents[2].text.strip()\n",
    "        food_price = menu.contents[0].text.strip()\n",
    "    except:\n",
    "        food = \"\"\n",
    "        food_description = \"\"\n",
    "        food_price = \"\"\n",
    "    #Append the list created initially with the respective values of name, description and price as the loop progresses\n",
    "    item.append(food)\n",
    "    item_description.append(food_description)\n",
    "    item_price.append(food_price)"
   ]
  },
  {
   "cell_type": "code",
   "execution_count": 20,
   "id": "27bf0a59",
   "metadata": {},
   "outputs": [],
   "source": [
    "# create a new dataframe with 3 columns and Store the values of name, description and price \n",
    "utazi_full_menu = pd.DataFrame({\n",
    "    'Name':item,\n",
    "    'Description':item_description,\n",
    "    'Price':item_price\n",
    "})"
   ]
  },
  {
   "cell_type": "code",
   "execution_count": 21,
   "id": "05796f7a",
   "metadata": {},
   "outputs": [],
   "source": [
    "#The values of price all start with a 'NGN' prefix so I use a lamda function to remove all\n",
    "utazi_full_menu['Price'] = list(map(lambda x: x[3:], utazi_full_menu['Price']))"
   ]
  },
  {
   "cell_type": "code",
   "execution_count": 22,
   "id": "28bfffe8",
   "metadata": {},
   "outputs": [
    {
     "data": {
      "text/html": [
       "<div>\n",
       "<style scoped>\n",
       "    .dataframe tbody tr th:only-of-type {\n",
       "        vertical-align: middle;\n",
       "    }\n",
       "\n",
       "    .dataframe tbody tr th {\n",
       "        vertical-align: top;\n",
       "    }\n",
       "\n",
       "    .dataframe thead th {\n",
       "        text-align: right;\n",
       "    }\n",
       "</style>\n",
       "<table border=\"1\" class=\"dataframe\">\n",
       "  <thead>\n",
       "    <tr style=\"text-align: right;\">\n",
       "      <th></th>\n",
       "      <th>Name</th>\n",
       "      <th>Description</th>\n",
       "      <th>Price</th>\n",
       "    </tr>\n",
       "  </thead>\n",
       "  <tbody>\n",
       "    <tr>\n",
       "      <th>0</th>\n",
       "      <td>Cat Fish Pepper Soup</td>\n",
       "      <td>Prepared in a spicy fish broth</td>\n",
       "      <td>7500</td>\n",
       "    </tr>\n",
       "    <tr>\n",
       "      <th>1</th>\n",
       "      <td>Fish Pepper Soup</td>\n",
       "      <td>Crocker, barracuda, grouper or fisherman catch...</td>\n",
       "      <td>4500</td>\n",
       "    </tr>\n",
       "    <tr>\n",
       "      <th>2</th>\n",
       "      <td>Chicken Pepper Soup</td>\n",
       "      <td>Prepared in a spicy chicken broth</td>\n",
       "      <td>3500</td>\n",
       "    </tr>\n",
       "    <tr>\n",
       "      <th>3</th>\n",
       "      <td>Goat Meat Pepper Soup</td>\n",
       "      <td>Prepared in a spicy goat meat broth</td>\n",
       "      <td>4000</td>\n",
       "    </tr>\n",
       "    <tr>\n",
       "      <th>4</th>\n",
       "      <td>Peppered Snail</td>\n",
       "      <td>Sauteed onions, peppers served with fries</td>\n",
       "      <td>6000</td>\n",
       "    </tr>\n",
       "  </tbody>\n",
       "</table>\n",
       "</div>"
      ],
      "text/plain": [
       "                    Name                                        Description  \\\n",
       "0   Cat Fish Pepper Soup                     Prepared in a spicy fish broth   \n",
       "1       Fish Pepper Soup  Crocker, barracuda, grouper or fisherman catch...   \n",
       "2    Chicken Pepper Soup                  Prepared in a spicy chicken broth   \n",
       "3  Goat Meat Pepper Soup                Prepared in a spicy goat meat broth   \n",
       "4         Peppered Snail          Sauteed onions, peppers served with fries   \n",
       "\n",
       "  Price  \n",
       "0  7500  \n",
       "1  4500  \n",
       "2  3500  \n",
       "3  4000  \n",
       "4  6000  "
      ]
     },
     "execution_count": 22,
     "metadata": {},
     "output_type": "execute_result"
    }
   ],
   "source": [
    "utazi_full_menu.head()"
   ]
  },
  {
   "cell_type": "code",
   "execution_count": 23,
   "id": "889f5849",
   "metadata": {},
   "outputs": [],
   "source": [
    "#Finally I write my output data and store in a csv\n",
    "utazi_full_menu.to_csv('utazi.csv')"
   ]
  }
 ],
 "metadata": {
  "kernelspec": {
   "display_name": "Python 3 (ipykernel)",
   "language": "python",
   "name": "python3"
  },
  "language_info": {
   "codemirror_mode": {
    "name": "ipython",
    "version": 3
   },
   "file_extension": ".py",
   "mimetype": "text/x-python",
   "name": "python",
   "nbconvert_exporter": "python",
   "pygments_lexer": "ipython3",
   "version": "3.9.7"
  }
 },
 "nbformat": 4,
 "nbformat_minor": 5
}
